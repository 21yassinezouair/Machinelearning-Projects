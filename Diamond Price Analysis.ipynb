{
 "cells": [
  {
   "cell_type": "code",
   "execution_count": null,
   "id": "c17a49a1",
   "metadata": {},
   "outputs": [],
   "source": [
    "import zipfile\n",
    "import pandas as pd\n",
    "\n",
    "# Open the zip file and read the CSV file\n",
    "with zipfile.ZipFile('C:\\\\Users\\\\user\\\\Downloads\\\\archive (13).zip', 'r') as zip_ref:\n",
    "    with zip_ref.open('diamonds.csv') as csv_file:\n",
    "        df = pd.read_csv(csv_file)\n",
    "\n",
    "# Display the first few rows of the DataFrame\n",
    "df.head()\n",
    "\n"
   ]
  },
  {
   "cell_type": "code",
   "execution_count": null,
   "id": "2daf3cba",
   "metadata": {},
   "outputs": [],
   "source": [
    "import pandas as pd\n",
    "import numpy as np\n",
    "import plotly.express as px\n",
    "import plotly.graph_objects as go\n",
    "\n"
   ]
  },
  {
   "cell_type": "code",
   "execution_count": null,
   "id": "4308af87",
   "metadata": {},
   "outputs": [],
   "source": [
    "df = df.drop(\"Unnamed: 0\",axis=1)"
   ]
  },
  {
   "cell_type": "code",
   "execution_count": null,
   "id": "29d282b0",
   "metadata": {},
   "outputs": [],
   "source": [
    "# Create a scatter plot with the correct argument name\n",
    "figure = px.scatter(data_frame=df, x=\"carat\", \n",
    "                    y=\"price\", size=\"depth\", \n",
    "                    color=\"cut\", trendline=\"ols\")\n",
    "\n",
    "# Display the figure\n",
    "figure.show()\n"
   ]
  },
  {
   "cell_type": "code",
   "execution_count": null,
   "id": "48796c79",
   "metadata": {},
   "outputs": [],
   "source": [
    "df[\"size\"] = df[\"x\"] * df[\"y\"] * df[\"z\"]\n",
    "print(df)"
   ]
  },
  {
   "cell_type": "code",
   "execution_count": null,
   "id": "ba7e4070",
   "metadata": {},
   "outputs": [],
   "source": [
    "figure = px.scatter(data_frame = df, x=\"size\",\n",
    "                    y=\"price\", size=\"size\", \n",
    "                    color= \"cut\", trendline=\"ols\")\n",
    "figure.show()"
   ]
  },
  {
   "cell_type": "code",
   "execution_count": null,
   "id": "104d9aa1",
   "metadata": {},
   "outputs": [],
   "source": [
    "fig = px.box(df, x=\"cut\", \n",
    "             y=\"price\", \n",
    "             color=\"color\")\n",
    "fig.show()"
   ]
  },
  {
   "cell_type": "code",
   "execution_count": null,
   "id": "39c5646d",
   "metadata": {},
   "outputs": [],
   "source": [
    "fig = px.box(df, \n",
    "             x=\"cut\", \n",
    "             y=\"price\", \n",
    "             color=\"clarity\")\n",
    "fig.show()"
   ]
  },
  {
   "cell_type": "code",
   "execution_count": null,
   "id": "2b3f0747",
   "metadata": {},
   "outputs": [],
   "source": [
    "# Select only numeric columns from the DataFrame\n",
    "numeric_df = df.select_dtypes(include='number')\n",
    "\n",
    "# Compute the correlation matrix for numeric columns\n",
    "correlation = numeric_df.corr()\n",
    "\n",
    "# Display the sorted correlation values with respect to 'price'\n",
    "print(correlation[\"price\"].sort_values(ascending=False))\n"
   ]
  },
  {
   "cell_type": "code",
   "execution_count": null,
   "id": "bcf3c992",
   "metadata": {},
   "outputs": [],
   "source": [
    "df[\"cut\"] = df[\"cut\"].map({\"Ideal\": 1, \n",
    "                               \"Premium\": 2, \n",
    "                               \"Good\": 3,\n",
    "                               \"Very Good\": 4,\n",
    "                               \"Fair\": 5})"
   ]
  },
  {
   "cell_type": "code",
   "execution_count": null,
   "id": "5522b6c4",
   "metadata": {},
   "outputs": [],
   "source": [
    "#splitting data\n",
    "from sklearn.model_selection import train_test_split\n",
    "x = np.array(df[[\"carat\", \"cut\", \"size\"]])\n",
    "y = np.array(df[[\"price\"]])\n",
    "\n",
    "xtrain, xtest, ytrain, ytest = train_test_split(x, y, \n",
    "                                                test_size=0.10, \n",
    "                                                random_state=42)"
   ]
  },
  {
   "cell_type": "code",
   "execution_count": null,
   "id": "490852ab",
   "metadata": {},
   "outputs": [],
   "source": [
    "from sklearn.ensemble import RandomForestRegressor\n",
    "model = RandomForestRegressor()\n",
    "model.fit(xtrain, ytrain)"
   ]
  },
  {
   "cell_type": "code",
   "execution_count": null,
   "id": "719c5ba8",
   "metadata": {},
   "outputs": [],
   "source": [
    "print(\"Diamond Price Prediction\")\n",
    "a = float(input(\"Carat Size: \"))\n",
    "b = int(input(\"Cut Type (Ideal: 1, Premium: 2, Good: 3, Very Good: 4, Fair: 5): \"))\n",
    "c = float(input(\"Size: \"))\n",
    "features = np.array([[a, b, c]])\n",
    "print(\"Predicted Diamond's Price = \", model.predict(features))"
   ]
  },
  {
   "cell_type": "code",
   "execution_count": null,
   "id": "4dec399c",
   "metadata": {},
   "outputs": [],
   "source": []
  }
 ],
 "metadata": {
  "kernelspec": {
   "display_name": "Python 3 (ipykernel)",
   "language": "python",
   "name": "python3"
  },
  "language_info": {
   "codemirror_mode": {
    "name": "ipython",
    "version": 3
   },
   "file_extension": ".py",
   "mimetype": "text/x-python",
   "name": "python",
   "nbconvert_exporter": "python",
   "pygments_lexer": "ipython3",
   "version": "3.11.5"
  }
 },
 "nbformat": 4,
 "nbformat_minor": 5
}
