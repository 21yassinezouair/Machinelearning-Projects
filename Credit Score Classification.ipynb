{
 "cells": [
  {
   "cell_type": "code",
   "execution_count": null,
   "id": "00c0f459",
   "metadata": {},
   "outputs": [],
   "source": [
    "import zipfile\n",
    "import pandas as pd\n",
    "\n",
    "# Specify the path to the ZIP file\n",
    "zip_file_path = \"C:\\\\Users\\\\user\\\\Downloads\\\\Credit-Score-Data.zip\"\n",
    "\n",
    "# Open the ZIP file and extract the required CSV file\n",
    "with zipfile.ZipFile(zip_file_path, 'r') as zip_ref:\n",
    "    # List all the files in the ZIP archive\n",
    "    print(zip_ref.namelist())  # This will show you the files inside the ZIP\n",
    "\n",
    "    # Read the CSV file into a pandas DataFrame\n",
    "    with zip_ref.open('Credit Score Data/train.csv') as csv_file:\n",
    "        df = pd.read_csv(csv_file)\n",
    "\n",
    "# Display the first few rows of the DataFrame\n",
    "df.head()\n"
   ]
  },
  {
   "cell_type": "code",
   "execution_count": null,
   "id": "322f6ff4",
   "metadata": {},
   "outputs": [],
   "source": [
    "print(df.info())"
   ]
  },
  {
   "cell_type": "code",
   "execution_count": null,
   "id": "5d450e07",
   "metadata": {},
   "outputs": [],
   "source": [
    "print(df.isnull().sum())"
   ]
  },
  {
   "cell_type": "code",
   "execution_count": null,
   "id": "cca33358",
   "metadata": {},
   "outputs": [],
   "source": [
    "df[\"Credit_Score\"].value_counts()"
   ]
  },
  {
   "cell_type": "code",
   "execution_count": null,
   "id": "13afe2c8",
   "metadata": {},
   "outputs": [],
   "source": [
    "fig = px.box(df, \n",
    "             x=\"Occupation\",  \n",
    "             color=\"Credit_Score\", \n",
    "             title=\"Credit Scores Based on Occupation\", \n",
    "             color_discrete_map={'Poor':'red',\n",
    "                                 'Standard':'yellow',\n",
    "                                 'Good':'green'})\n",
    "fig.show()"
   ]
  },
  {
   "cell_type": "code",
   "execution_count": null,
   "id": "38096fbf",
   "metadata": {},
   "outputs": [],
   "source": [
    "fig = px.box(df, \n",
    "             x=\"Credit_Score\", \n",
    "             y=\"Annual_Income\", \n",
    "             color=\"Credit_Score\",\n",
    "             title=\"Credit Scores Based on Annual Income\", \n",
    "             color_discrete_map={'Poor':'red',\n",
    "                                 'Standard':'yellow',\n",
    "                                 'Good':'green'})\n",
    "fig.update_traces(quartilemethod=\"exclusive\")\n",
    "fig.show()"
   ]
  },
  {
   "cell_type": "code",
   "execution_count": null,
   "id": "d995f60e",
   "metadata": {},
   "outputs": [],
   "source": [
    "fig = px.box(df, \n",
    "             x=\"Credit_Score\", \n",
    "             y=\"Monthly_Inhand_Salary\", \n",
    "             color=\"Credit_Score\",\n",
    "             title=\"Credit Scores Based on Monthly Inhand Salary\", \n",
    "             color_discrete_map={'Poor':'red',\n",
    "                                 'Standard':'yellow',\n",
    "                                 'Good':'green'})\n",
    "fig.update_traces(quartilemethod=\"exclusive\")\n",
    "fig.show()"
   ]
  },
  {
   "cell_type": "code",
   "execution_count": null,
   "id": "04739847",
   "metadata": {},
   "outputs": [],
   "source": [
    "fig = px.box(df, \n",
    "             x=\"Credit_Score\", \n",
    "             y=\"Monthly_Inhand_Salary\", \n",
    "             color=\"Credit_Score\",\n",
    "             title=\"Credit Scores Based on Monthly Inhand Salary\", \n",
    "             color_discrete_map={'Poor':'red',\n",
    "                                 'Standard':'yellow',\n",
    "                                 'Good':'green'})\n",
    "fig.update_traces(quartilemethod=\"exclusive\")\n",
    "fig.show()"
   ]
  },
  {
   "cell_type": "code",
   "execution_count": null,
   "id": "d8cdfeaf",
   "metadata": {},
   "outputs": [],
   "source": [
    "fig = px.box(df, \n",
    "             x=\"Credit_Score\", \n",
    "             y=\"Num_Credit_Card\", \n",
    "             color=\"Credit_Score\",\n",
    "             title=\"Credit Scores Based on Number of Credit cards\", \n",
    "             color_discrete_map={'Poor':'red',\n",
    "                                 'Standard':'yellow',\n",
    "                                 'Good':'green'})\n",
    "fig.update_traces(quartilemethod=\"exclusive\")\n",
    "fig.show()"
   ]
  },
  {
   "cell_type": "code",
   "execution_count": null,
   "id": "49f9a692",
   "metadata": {},
   "outputs": [],
   "source": [
    "fig = px.box(df, \n",
    "             x=\"Credit_Score\", \n",
    "             y=\"Interest_Rate\", \n",
    "             color=\"Credit_Score\",\n",
    "             title=\"Credit Scores Based on the Average Interest rates\", \n",
    "             color_discrete_map={'Poor':'red',\n",
    "                                 'Standard':'yellow',\n",
    "                                 'Good':'green'})\n",
    "fig.update_traces(quartilemethod=\"exclusive\")\n",
    "fig.show()"
   ]
  },
  {
   "cell_type": "code",
   "execution_count": null,
   "id": "e6f29647",
   "metadata": {},
   "outputs": [],
   "source": [
    "fig = px.box(df, \n",
    "             x=\"Credit_Score\", \n",
    "             y=\"Num_of_Loan\", \n",
    "             color=\"Credit_Score\", \n",
    "             title=\"Credit Scores Based on Number of Loans Taken by the Person\",\n",
    "             color_discrete_map={'Poor':'red',\n",
    "                                 'Standard':'yellow',\n",
    "                                 'Good':'green'})\n",
    "fig.update_traces(quartilemethod=\"exclusive\")\n",
    "fig.show()"
   ]
  },
  {
   "cell_type": "code",
   "execution_count": null,
   "id": "441e9114",
   "metadata": {},
   "outputs": [],
   "source": [
    "fig = px.box(df, \n",
    "             x=\"Credit_Score\", \n",
    "             y=\"Delay_from_due_date\", \n",
    "             color=\"Credit_Score\",\n",
    "             title=\"Credit Scores Based on Average Number of Days Delayed for Credit card Payments\", \n",
    "             color_discrete_map={'Poor':'red',\n",
    "                                 'Standard':'yellow',\n",
    "                                 'Good':'green'})\n",
    "fig.update_traces(quartilemethod=\"exclusive\")\n",
    "fig.show()"
   ]
  },
  {
   "cell_type": "code",
   "execution_count": null,
   "id": "799be129",
   "metadata": {},
   "outputs": [],
   "source": [
    "fig = px.box(df, \n",
    "             x=\"Credit_Score\", \n",
    "             y=\"Num_of_Delayed_Payment\", \n",
    "             color=\"Credit_Score\", \n",
    "             title=\"Credit Scores Based on Number of Delayed Payments\",\n",
    "             color_discrete_map={'Poor':'red',\n",
    "                                 'Standard':'yellow',\n",
    "                                 'Good':'green'})\n",
    "fig.update_traces(quartilemethod=\"exclusive\")\n",
    "fig.show()"
   ]
  },
  {
   "cell_type": "code",
   "execution_count": null,
   "id": "32936352",
   "metadata": {},
   "outputs": [],
   "source": [
    "fig = px.box(df, \n",
    "             x=\"Credit_Score\", \n",
    "             y=\"Outstanding_Debt\", \n",
    "             color=\"Credit_Score\", \n",
    "             title=\"Credit Scores Based on Outstanding Debt\",\n",
    "             color_discrete_map={'Poor':'red',\n",
    "                                 'Standard':'yellow',\n",
    "                                 'Good':'green'})\n",
    "fig.update_traces(quartilemethod=\"exclusive\")\n",
    "fig.show()"
   ]
  },
  {
   "cell_type": "code",
   "execution_count": null,
   "id": "72a55d0c",
   "metadata": {},
   "outputs": [],
   "source": [
    "fig = px.box(df, \n",
    "             x=\"Credit_Score\", \n",
    "             y=\"Credit_Utilization_Ratio\", \n",
    "             color=\"Credit_Score\",\n",
    "             title=\"Credit Scores Based on Credit Utilization Ratio\", \n",
    "             color_discrete_map={'Poor':'red',\n",
    "                                 'Standard':'yellow',\n",
    "                                 'Good':'green'})\n",
    "fig.update_traces(quartilemethod=\"exclusive\")\n",
    "fig.show()"
   ]
  },
  {
   "cell_type": "code",
   "execution_count": null,
   "id": "90f8f397",
   "metadata": {},
   "outputs": [],
   "source": [
    "fig = px.box(df, \n",
    "             x=\"Credit_Score\", \n",
    "             y=\"Credit_History_Age\", \n",
    "             color=\"Credit_Score\", \n",
    "             title=\"Credit Scores Based on Credit History Age\",\n",
    "             color_discrete_map={'Poor':'red',\n",
    "                                 'Standard':'yellow',\n",
    "                                 'Good':'green'})\n",
    "fig.update_traces(quartilemethod=\"exclusive\")\n",
    "fig.show()"
   ]
  },
  {
   "cell_type": "code",
   "execution_count": null,
   "id": "ad971a02",
   "metadata": {},
   "outputs": [],
   "source": [
    "fig = px.box(df, \n",
    "             x=\"Credit_Score\", \n",
    "             y=\"Total_EMI_per_month\", \n",
    "             color=\"Credit_Score\", \n",
    "             title=\"Credit Scores Based on Total Number of EMIs per Month\",\n",
    "             color_discrete_map={'Poor':'red',\n",
    "                                 'Standard':'yellow',\n",
    "                                 'Good':'green'})\n",
    "fig.update_traces(quartilemethod=\"exclusive\")\n",
    "fig.show()"
   ]
  },
  {
   "cell_type": "code",
   "execution_count": null,
   "id": "d4879603",
   "metadata": {},
   "outputs": [],
   "source": [
    "fig = px.box(df, \n",
    "             x=\"Credit_Score\", \n",
    "             y=\"Total_EMI_per_month\", \n",
    "             color=\"Credit_Score\", \n",
    "             title=\"Credit Scores Based on Total Number of EMIs per Month\",\n",
    "             color_discrete_map={'Poor':'red',\n",
    "                                 'Standard':'yellow',\n",
    "                                 'Good':'green'})\n",
    "fig.update_traces(quartilemethod=\"exclusive\")\n",
    "fig.show()"
   ]
  },
  {
   "cell_type": "code",
   "execution_count": null,
   "id": "7c75e895",
   "metadata": {},
   "outputs": [],
   "source": [
    "fig = px.box(df, \n",
    "             x=\"Credit_Score\", \n",
    "             y=\"Monthly_Balance\", \n",
    "             color=\"Credit_Score\", \n",
    "             title=\"Credit Scores Based on Monthly Balance Left\",\n",
    "             color_discrete_map={'Poor':'red',\n",
    "                                 'Standard':'yellow',\n",
    "                                 'Good':'green'})\n",
    "fig.update_traces(quartilemethod=\"exclusive\")\n",
    "fig.show()"
   ]
  },
  {
   "cell_type": "code",
   "execution_count": null,
   "id": "4e7878d7",
   "metadata": {},
   "outputs": [],
   "source": [
    "df[\"Credit_Mix\"] = df[\"Credit_Mix\"].map({\"Standard\": 1, \n",
    "                               \"Good\": 2, \n",
    "                               \"Bad\": 0})"
   ]
  },
  {
   "cell_type": "code",
   "execution_count": null,
   "id": "4abd413b",
   "metadata": {},
   "outputs": [],
   "source": [
    "from sklearn.model_selection import train_test_split\n",
    "x = np.array(df[[\"Annual_Income\", \"Monthly_Inhand_Salary\", \n",
    "                   \"Num_Bank_Accounts\", \"Num_Credit_Card\", \n",
    "                   \"Interest_Rate\", \"Num_of_Loan\", \n",
    "                   \"Delay_from_due_date\", \"Num_of_Delayed_Payment\", \n",
    "                   \"Credit_Mix\", \"Outstanding_Debt\", \n",
    "                   \"Credit_History_Age\", \"Monthly_Balance\"]])\n",
    "y = np.array(df[[\"Credit_Score\"]])"
   ]
  },
  {
   "cell_type": "code",
   "execution_count": null,
   "id": "13c0417e",
   "metadata": {},
   "outputs": [],
   "source": [
    "xtrain, xtest, ytrain, ytest = train_test_split(x, y, \n",
    "                                                    test_size=0.33, \n",
    "                                                    random_state=42)\n",
    "from sklearn.ensemble import RandomForestClassifier\n",
    "model = RandomForestClassifier()\n",
    "model.fit(xtrain, ytrain)"
   ]
  },
  {
   "cell_type": "code",
   "execution_count": null,
   "id": "da8f59e2",
   "metadata": {},
   "outputs": [],
   "source": [
    "print(\"Credit Score Prediction : \")\n",
    "a = float(input(\"Annual Income: \"))\n",
    "b = float(input(\"Monthly Inhand Salary: \"))\n",
    "c = float(input(\"Number of Bank Accounts: \"))\n",
    "d = float(input(\"Number of Credit cards: \"))\n",
    "e = float(input(\"Interest rate: \"))\n",
    "f = float(input(\"Number of Loans: \"))\n",
    "g = float(input(\"Average number of days delayed by the person: \"))\n",
    "h = float(input(\"Number of delayed payments: \"))\n",
    "i = input(\"Credit Mix (Bad: 0, Standard: 1, Good: 3) : \")\n",
    "j = float(input(\"Outstanding Debt: \"))\n",
    "k = float(input(\"Credit History Age: \"))\n",
    "l = float(input(\"Monthly Balance: \"))\n",
    "\n",
    "features = np.array([[a, b, c, d, e, f, g, h, i, j, k, l]])\n",
    "print(\"Predicted Credit Score = \", model.predict(features))"
   ]
  },
  {
   "cell_type": "code",
   "execution_count": null,
   "id": "dd105465",
   "metadata": {},
   "outputs": [],
   "source": []
  }
 ],
 "metadata": {
  "kernelspec": {
   "display_name": "Python 3 (ipykernel)",
   "language": "python",
   "name": "python3"
  },
  "language_info": {
   "codemirror_mode": {
    "name": "ipython",
    "version": 3
   },
   "file_extension": ".py",
   "mimetype": "text/x-python",
   "name": "python",
   "nbconvert_exporter": "python",
   "pygments_lexer": "ipython3",
   "version": "3.11.5"
  }
 },
 "nbformat": 4,
 "nbformat_minor": 5
}
